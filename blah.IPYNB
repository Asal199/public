\begin{equation}
...
\tag{1}
\end{equation}
